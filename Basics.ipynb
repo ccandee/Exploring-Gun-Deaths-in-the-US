{
 "cells": [
  {
   "cell_type": "code",
   "execution_count": 23,
   "metadata": {
    "collapsed": false
   },
   "outputs": [
    {
     "name": "stdout",
     "output_type": "stream",
     "text": [
      "[['', 'year', 'month', 'intent', 'police', 'sex', 'age', 'race', 'hispanic', 'place', 'education'], ['1', '2012', '01', 'Suicide', '0', 'M', '34', 'Asian/Pacific Islander', '100', 'Home', '4'], ['2', '2012', '01', 'Suicide', '0', 'F', '21', 'White', '100', 'Street', '3'], ['3', '2012', '01', 'Suicide', '0', 'M', '60', 'White', '100', 'Other specified', '4'], ['4', '2012', '02', 'Suicide', '0', 'M', '64', 'White', '100', 'Home', '4']]\n",
      "100798\n"
     ]
    }
   ],
   "source": [
    "import csv, datetime\n",
    "f= open(\"guns.csv\", \"r\")\n",
    "data = list(csv.reader(f))\n",
    "print(data[0:5])\n",
    "data = data[1:]\n",
    "print(len(data))\n"
   ]
  },
  {
   "cell_type": "code",
   "execution_count": 24,
   "metadata": {
    "collapsed": false
   },
   "outputs": [
    {
     "name": "stdout",
     "output_type": "stream",
     "text": [
      "{'2012': 33563, '2013': 33636, '2014': 33599}\n"
     ]
    }
   ],
   "source": [
    "year_counts = {}\n",
    "for row in data:\n",
    "    if row[1] in year_counts:\n",
    "        year_counts[row[1]] += 1\n",
    "    else:\n",
    "        year_counts[row[1]] = 1\n",
    "print(year_counts)"
   ]
  },
  {
   "cell_type": "code",
   "execution_count": 25,
   "metadata": {
    "collapsed": false
   },
   "outputs": [
    {
     "name": "stdout",
     "output_type": "stream",
     "text": [
      "[datetime.datetime(2012, 1, 1, 0, 0), datetime.datetime(2012, 1, 1, 0, 0), datetime.datetime(2012, 1, 1, 0, 0), datetime.datetime(2012, 2, 1, 0, 0), datetime.datetime(2012, 2, 1, 0, 0)]\n"
     ]
    }
   ],
   "source": [
    "dates = []\n",
    "for row in data:\n",
    "    dates.append( datetime.datetime(year = int(row[1]),\n",
    "                              month = int(row[2]), day = 1))\n",
    "print (dates[0:5])\n",
    "    "
   ]
  },
  {
   "cell_type": "code",
   "execution_count": 35,
   "metadata": {
    "collapsed": false
   },
   "outputs": [],
   "source": [
    "date_counts = {}\n",
    "for date in dates:\n",
    "    if date in date_counts:\n",
    "        date_counts[date] += 1\n",
    "    else:\n",
    "        date_counts[date] = 1"
   ]
  },
  {
   "cell_type": "code",
   "execution_count": 36,
   "metadata": {
    "collapsed": false
   },
   "outputs": [
    {
     "name": "stdout",
     "output_type": "stream",
     "text": [
      "{'M': 86349, 'F': 14449}\n",
      "{'Native American/Native Alaskan': 917, 'White': 66237, 'Asian/Pacific Islander': 1326, 'Hispanic': 9022, 'Black': 23296}\n"
     ]
    }
   ],
   "source": [
    "sex_counts = {}\n",
    "race_counts = {}\n",
    "for row in data:\n",
    "    if row[5] in sex_counts:\n",
    "        sex_counts[row[5]] += 1\n",
    "    else:\n",
    "        sex_counts[row[5]] = 1\n",
    "    if row[7] in race_counts:\n",
    "        race_counts[row[7]] += 1\n",
    "    else:\n",
    "        race_counts[row[7]] = 1\n",
    "print(sex_counts)\n",
    "print(race_counts)"
   ]
  },
  {
   "cell_type": "markdown",
   "metadata": {},
   "source": [
    "From the result we can see that in the report, men are more likely to got shoot.\n"
   ]
  },
  {
   "cell_type": "code",
   "execution_count": 29,
   "metadata": {
    "collapsed": false,
    "scrolled": true
   },
   "outputs": [
    {
     "name": "stdout",
     "output_type": "stream",
     "text": [
      "[['Id', 'Year', 'Id', 'Sex', 'Id', 'Hispanic Origin', 'Id', 'Id2', 'Geography', 'Total', 'Race Alone - White', 'Race Alone - Hispanic', 'Race Alone - Black or African American', 'Race Alone - American Indian and Alaska Native', 'Race Alone - Asian', 'Race Alone - Native Hawaiian and Other Pacific Islander', 'Two or More Races'], ['cen42010', 'April 1, 2010 Census', 'totsex', 'Both Sexes', 'tothisp', 'Total', '0100000US', '', 'United States', '308745538', '197318956', '44618105', '40250635', '3739506', '15159516', '674625', '6984195']]\n"
     ]
    }
   ],
   "source": [
    "import csv\n",
    "f = open(\"census.csv\", \"r\")\n",
    "census = list(csv.reader(f))\n",
    "print (census)"
   ]
  },
  {
   "cell_type": "code",
   "execution_count": 33,
   "metadata": {
    "collapsed": false
   },
   "outputs": [
    {
     "name": "stdout",
     "output_type": "stream",
     "text": [
      "{'Hispanic': '40250635', 'White': '44618105', 'Asian/Pacific Islander': 7658820, 'Native American/Native Alaskan': '15159516', 'Black': '3739506'}\n"
     ]
    }
   ],
   "source": [
    "mapping = {'Asian/Pacific Islander':int(census[1][15])+int(census[1][16]), \n",
    "           \"Black\": census[1][13], \"Hispanic\" : census[1][12], \"Native American/Native Alaskan\":\n",
    "           census[1][14], \"White\": census[1][11]}\n",
    "print (mapping)"
   ]
  },
  {
   "cell_type": "code",
   "execution_count": 34,
   "metadata": {
    "collapsed": false
   },
   "outputs": [
    {
     "name": "stdout",
     "output_type": "stream",
     "text": [
      "{'Native American/Native Alaskan': 6.049005786200562, 'White': 148.45318957405297, 'Asian/Pacific Islander': 17.313372033811998, 'Black': 622.9699858751396, 'Hispanic': 22.41455321139654}\n"
     ]
    }
   ],
   "source": [
    "race_per_hundredk = {}\n",
    "for item, value in race_counts.items():\n",
    "    race_per_hundredk[item] = value/float(mapping[item])*100000\n",
    "print(race_per_hundredk)"
   ]
  },
  {
   "cell_type": "markdown",
   "metadata": {},
   "source": [
    "Seems that black got gun shot more than other races in proportion. What is the couse? Now we analyse together with \n",
    "intent."
   ]
  },
  {
   "cell_type": "code",
   "execution_count": 43,
   "metadata": {
    "collapsed": false
   },
   "outputs": [
    {
     "name": "stdout",
     "output_type": "stream",
     "text": [
      "{'Native American/Native Alaskan': 326, 'White': 9147, 'Asian/Pacific Islander': 559, 'Hispanic': 5634, 'Black': 19510}\n",
      "{'Native American/Native Alaskan': 2.1504644343526533, 'White': 20.50064654247418, 'Asian/Pacific Islander': 7.298774484842313, 'Hispanic': 13.997294701064964, 'Black': 521.7266665703972}\n"
     ]
    }
   ],
   "source": [
    "intents = [row[3] for row in data]\n",
    "races = [row[7] for row in data]\n",
    "homicide_race_per_hundredk = {}\n",
    "for i, race in enumerate(races):\n",
    "    if intents[i] == \"Homicide\":\n",
    "        if race not in homicide_race_per_hundredk:\n",
    "            homicide_race_per_hundredk[race] = 1\n",
    "        else:\n",
    "            homicide_race_per_hundredk[race] += 1\n",
    "print(homicide_race_per_hundredk)\n",
    "for item, value in homicide_race_per_hundredk.items():\n",
    "    homicide_race_per_hundredk[item] = value/float(mapping[item])*100000\n",
    "print(homicide_race_per_hundredk)"
   ]
  },
  {
   "cell_type": "markdown",
   "metadata": {},
   "source": [
    "oh! the result is startling! Black has high homicide rate, which is really a big concern.  "
   ]
  },
  {
   "cell_type": "code",
   "execution_count": null,
   "metadata": {
    "collapsed": true
   },
   "outputs": [],
   "source": []
  }
 ],
 "metadata": {
  "kernelspec": {
   "display_name": "Python 3",
   "language": "python",
   "name": "python3"
  },
  "language_info": {
   "codemirror_mode": {
    "name": "ipython",
    "version": 3
   },
   "file_extension": ".py",
   "mimetype": "text/x-python",
   "name": "python",
   "nbconvert_exporter": "python",
   "pygments_lexer": "ipython3",
   "version": "3.4.3"
  }
 },
 "nbformat": 4,
 "nbformat_minor": 0
}
